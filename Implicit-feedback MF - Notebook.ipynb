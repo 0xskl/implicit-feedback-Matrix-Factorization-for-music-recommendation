{
 "cells": [
  {
   "cell_type": "code",
   "execution_count": null,
   "metadata": {
    "collapsed": true
   },
   "outputs": [],
   "source": [
    "# Aalto Matrix Compeltion  \n",
    "## recommendation problem for Music (an in class Kaggle challenge)\n",
    "#### https://inclass.kaggle.com/c/aalto-music-listening-prediction\n",
    "### Realised by :  Sakly Sami ,Roodnejad Maxime  \n",
    "### Master Class AIC - UPSay                "
   ]
  },
  {
   "cell_type": "markdown",
   "metadata": {},
   "source": [
    "Original data were in the form of matlab (.mat) files. So we had convert them to csv."
   ]
  },
  {
   "cell_type": "code",
   "execution_count": 1,
   "metadata": {
    "collapsed": true
   },
   "outputs": [],
   "source": [
    "import csv\n",
    "import matplotlib.pyplot as plt\n",
    "%matplotlib inline\n",
    "import numpy as np\n",
    "import sys"
   ]
  },
  {
   "cell_type": "code",
   "execution_count": 2,
   "metadata": {
    "collapsed": false
   },
   "outputs": [],
   "source": [
    "# the first issue after converting the data to csv is that the value we are going to predict \n",
    "# are left empty (not a nan) , so we replace them do a count to check with competition information \n",
    "# and also keep position i and j position in the matrix in two separate  \n",
    "def transform_empty_toNumpyNan(filename):\n",
    "    \"\"\"\n",
    "    input  : raw csv matrix\n",
    "    output : matrix with empty replaced by nans\n",
    "             nan_elements_number as the total_number of nan\n",
    "             ipos_rawdata and jpos_rawdata containing couple of the i and the j of each nan position\n",
    "             \n",
    "    \"\"\"\n",
    "    with open(filename, 'rb') as f:\n",
    "        reader = csv.reader(f)\n",
    "        raw_data = list(reader)\n",
    "        total_zeros = 0\n",
    "        nan_elements_number = 0\n",
    "        ipos_rawdata = []\n",
    "        jpos_rawdata = []\n",
    "        non_nul_per_user_array = np.zeros(len(raw_data))\n",
    "        for j in range(len(raw_data[0])):\n",
    "                #row/user\n",
    "            for i in range(len(raw_data)):\n",
    "\n",
    "                if(raw_data[i][j])==\"\":\n",
    "\n",
    "                    nan_elements_number +=1\n",
    "                    ipos_rawdata.append(i)\n",
    "                    jpos_rawdata.append(j)\n",
    "                    raw_data[i][j] = np.nan\n",
    "                else:\n",
    "                    raw_data[i][j]=int(raw_data[i][j])\n",
    "                    if raw_data[i][j] > 0.0 :\n",
    "                        non_nul_per_user_array[i]+=1\n",
    "                \n",
    "    return raw_data,nan_elements_number,ipos_rawdata,jpos_rawdata,non_nul_per_user_array\n",
    "\n",
    "raw_data_transformed, nan_elements_number,ipos_rawdata,jpos_rawdata,non_nul_per_user_array = transform_empty_toNumpyNan('user_artist_matrix_with_nans.csv')"
   ]
  },
  {
   "cell_type": "code",
   "execution_count": 3,
   "metadata": {
    "collapsed": false
   },
   "outputs": [
    {
     "name": "stdout",
     "output_type": "stream",
     "text": [
      "number of user X number of artists :  (1372, 4322)\n"
     ]
    }
   ],
   "source": [
    "user_number = np.shape(raw_data_transformed)[0]\n",
    "item_number = np.shape(raw_data_transformed)[1]\n",
    "print \"number of user X number of artists : \", np.shape(raw_data_transformed)"
   ]
  },
  {
   "cell_type": "code",
   "execution_count": 4,
   "metadata": {
    "collapsed": false
   },
   "outputs": [
    {
     "name": "stdout",
     "output_type": "stream",
     "text": [
      "nan number :  35021\n",
      "nan ratio :  0.00590594868211\n",
      "sparcity ratio : 0.96220132133\n",
      "average non null values per user : 137\n"
     ]
    }
   ],
   "source": [
    "total_number_of_elemnt = (user_number * item_number) *1.0\n",
    "print \"nan number : \", nan_elements_number\n",
    "print \"nan ratio : \", nan_elements_number/total_number_of_elemnt\n",
    "print \"sparcity ratio :\", (total_number_of_elemnt - np.count_nonzero(raw_data_transformed))/total_number_of_elemnt\n",
    "print \"average non null values per user :\", int( np.mean(non_nul_per_user_array))"
   ]
  },
  {
   "cell_type": "code",
   "execution_count": 5,
   "metadata": {
    "collapsed": false
   },
   "outputs": [],
   "source": [
    "# list of nans of every user i\n",
    "# for plotting\n",
    "unique_nans =[]\n",
    "for i in np.unique(ipos_rawdata):\n",
    "    unique_nan_i = []\n",
    "    for t in range(len(ipos_rawdata)):\n",
    "        if ipos_rawdata[t] == i :\n",
    "            unique_nan_i.append(jpos_rawdata[t])\n",
    "    unique_nans.append(unique_nan_i)"
   ]
  },
  {
   "cell_type": "code",
   "execution_count": 6,
   "metadata": {
    "collapsed": false
   },
   "outputs": [
    {
     "name": "stdout",
     "output_type": "stream",
     "text": [
      "[82, 95, 152, 330, 531, 549, 567, 765, 812, 886, 934, 994, 1023, 1072, 1149, 1249, 1348, 1393, 1472, 1491, 1708, 1760, 1840, 1883, 1885, 1951, 1972, 1991, 2049, 2091, 2096, 2111, 2123, 2185, 2242, 2337, 2437, 2439, 2500, 2558, 2609, 2627, 2657, 2705, 2724, 2799, 2821, 2848, 2868, 2889, 2943, 2996, 3034, 3223, 3381, 3411, 3470, 3473, 3500, 3511, 3583, 3669, 3687, 3734, 3788, 3804, 3823, 3887, 3970, 4002, 4059, 4077, 4231, 4256]\n"
     ]
    }
   ],
   "source": [
    "print unique_nans[0]"
   ]
  },
  {
   "cell_type": "code",
   "execution_count": 7,
   "metadata": {
    "collapsed": true
   },
   "outputs": [],
   "source": [
    "def count_user_total_play(matrix):\n",
    "    \"\"\"\n",
    "    input  : user-item matrix\n",
    "    output : a list of couple (total_songs_user0, total_songs_user1, ..)\n",
    "    \"\"\"\n",
    "    user_artist_total = []\n",
    "    for i in range(0,np.shape(matrix)[0]):\n",
    "        user_artist_total.append(np.nansum(np.array(matrix[i])))\n",
    "    return user_artist_total\n",
    "        "
   ]
  },
  {
   "cell_type": "code",
   "execution_count": 8,
   "metadata": {
    "collapsed": false
   },
   "outputs": [],
   "source": [
    "total_count_user_item = count_user_total_play(raw_data_transformed)"
   ]
  },
  {
   "cell_type": "code",
   "execution_count": 9,
   "metadata": {
    "collapsed": false
   },
   "outputs": [
    {
     "data": {
      "text/plain": [
       "<matplotlib.figure.Figure at 0x7faf480496d0>"
      ]
     },
     "execution_count": 9,
     "metadata": {},
     "output_type": "execute_result"
    },
    {
     "data": {
      "image/png": "[encoded data removed]",
      "text/plain": [
       "<matplotlib.figure.Figure at 0x7faf20bc8c50>"
      ]
     },
     "metadata": {},
     "output_type": "display_data"
    },
    {
     "data": {
      "text/plain": [
       "<matplotlib.figure.Figure at 0x7faf480496d0>"
      ]
     },
     "metadata": {},
     "output_type": "display_data"
    }
   ],
   "source": [
    "\n",
    "plt.rcParams[\"figure.figsize\"] = (15,4)\n",
    "plt.plot(np.arange(0,len(non_nul_per_user_array)), non_nul_per_user_array,'rx')\n",
    "plt.axis([0, len(total_count_user_item), 0, np.max(total_count_user_item)/3])\n",
    "plt.title('number of non nul nor nan per user')\n",
    "plt.figure(figsize=(40,10))"
   ]
  },
  {
   "cell_type": "code",
   "execution_count": 10,
   "metadata": {
    "collapsed": false
   },
   "outputs": [
    {
     "data": {
      "text/plain": [
       "794.24052478134115"
      ]
     },
     "execution_count": 10,
     "metadata": {},
     "output_type": "execute_result"
    }
   ],
   "source": [
    "# the mean number of unique songs listened by one user is nearly 795, which is low compared and prove \n",
    "# the difficulty of the difficulty of the task\n",
    "np.mean(total_count_user_item)"
   ]
  },
  {
   "cell_type": "code",
   "execution_count": 11,
   "metadata": {
    "collapsed": false
   },
   "outputs": [
    {
     "data": {
      "text/plain": [
       "5927.0"
      ]
     },
     "execution_count": 11,
     "metadata": {},
     "output_type": "execute_result"
    }
   ],
   "source": [
    "# the maximum number of unique songs listened by one user is 5927\n",
    "np.max(total_count_user_item)"
   ]
  },
  {
   "cell_type": "code",
   "execution_count": 12,
   "metadata": {
    "collapsed": false
   },
   "outputs": [
    {
     "data": {
      "text/plain": [
       "<matplotlib.figure.Figure at 0x7faf20b31f90>"
      ]
     },
     "execution_count": 12,
     "metadata": {},
     "output_type": "execute_result"
    },
    {
     "data": {
      "image/png": "[encoded data removed]",
      "text/plain": [
       "<matplotlib.figure.Figure at 0x7faf20b31150>"
      ]
     },
     "metadata": {},
     "output_type": "display_data"
    },
    {
     "data": {
      "text/plain": [
       "<matplotlib.figure.Figure at 0x7faf20b31f90>"
      ]
     },
     "metadata": {},
     "output_type": "display_data"
    }
   ],
   "source": [
    "import matplotlib.pyplot as plt\n",
    "plt.rcParams[\"figure.figsize\"] = (15,10)\n",
    "plt.plot(np.arange(0,len(total_count_user_item)), total_count_user_item ,'ro')\n",
    "plt.axis([0, len(total_count_user_item), 0, np.max(total_count_user_item)])\n",
    "plt.title(\"number of total songs by user \")\n",
    "plt.figure(figsize=(40,10))"
   ]
  },
  {
   "cell_type": "code",
   "execution_count": null,
   "metadata": {
    "collapsed": false
   },
   "outputs": [],
   "source": [
    "# This was the simplest way to impute the nan value using SKlearn\n",
    "# gave no real result\n",
    "\n",
    "#from sklearn.preprocessing import Imputer\n",
    "#imp = Imputer(strategy=\"mean\")\n",
    "#aa = imp.fit_transform(raw_data_transformed)\n",
    "#score_to_write1 = []\n",
    "#for i in range(len(ipos_rawdata)):\n",
    "#    posi = ipos_rawdata[i]\n",
    "#    posj = jpos_rawdata[j]\n",
    "#    if aa[posi][posj] >=1.0 :\n",
    "#        aa[posi][posj] == 1.0\n",
    "#        score_to_write1.append(1)\n",
    "#    else :\n",
    "#        score_to_write1.append(0)\n",
    "        \n",
    "# Nope fail 0.4 :x"
   ]
  },
  {
   "cell_type": "markdown",
   "metadata": {},
   "source": [
    "## Implicit feed Back Matrix Factorization "
   ]
  },
  {
   "cell_type": "code",
   "execution_count": 14,
   "metadata": {
    "collapsed": true
   },
   "outputs": [],
   "source": [
    "import numpy as np\n",
    "import scipy.sparse as sparse\n",
    "from scipy.sparse.linalg import spsolve\n",
    "import time\n",
    "\n",
    "\n",
    "class ImplicitMF():\n",
    "\n",
    "    def __init__(self, counts, num_factors=40, num_iterations=30,\n",
    "                 reg_param=0.8):\n",
    "        self.counts = counts\n",
    "        self.num_users = counts.shape[0]\n",
    "        self.num_items = counts.shape[1]\n",
    "        self.num_factors = num_factors\n",
    "        self.num_iterations = num_iterations\n",
    "        self.reg_param = reg_param\n",
    "\n",
    "    def train_model(self):\n",
    "        self.user_vectors = np.random.normal(size=(self.num_users,\n",
    "                                                   self.num_factors))\n",
    "        self.item_vectors = np.random.normal(size=(self.num_items,\n",
    "                                                   self.num_factors))\n",
    "\n",
    "        for i in xrange(self.num_iterations):\n",
    "            t0 = time.time()\n",
    "            print 'Solving for user vectors...'\n",
    "            self.user_vectors = self.iteration(True, sparse.csr_matrix(self.item_vectors))\n",
    "            print 'Solving for item vectors...'\n",
    "            self.item_vectors = self.iteration(False, sparse.csr_matrix(self.user_vectors))\n",
    "            t1 = time.time()\n",
    "            print 'iteration %i finished in %f seconds' % (i + 1, t1 - t0)\n",
    "\n",
    "    def iteration(self, user, fixed_vecs):\n",
    "        num_solve = self.num_users if user else self.num_items\n",
    "        num_fixed = fixed_vecs.shape[0]\n",
    "        YTY = fixed_vecs.T.dot(fixed_vecs)\n",
    "        eye = sparse.eye(num_fixed)\n",
    "        lambda_eye = self.reg_param * sparse.eye(self.num_factors)\n",
    "        solve_vecs = np.zeros((num_solve, self.num_factors))\n",
    "\n",
    "        t = time.time()\n",
    "        for i in xrange(num_solve):\n",
    "            if user:\n",
    "                counts_i = self.counts[i].toarray()\n",
    "            else:\n",
    "                counts_i = self.counts[:, i].T.toarray()\n",
    "            CuI = sparse.diags(counts_i, [0])\n",
    "            pu = counts_i.copy()\n",
    "            pu[np.where(pu != 0)] = 1.0\n",
    "            YTCuIY = fixed_vecs.T.dot(CuI).dot(fixed_vecs)\n",
    "            YTCupu = fixed_vecs.T.dot(CuI + eye).dot(sparse.csr_matrix(pu).T)\n",
    "            xu = spsolve(YTY + YTCuIY + lambda_eye, YTCupu)\n",
    "            solve_vecs[i] = xu\n",
    "            if i % 1000 == 0:\n",
    "                print 'Solved %i vecs in %d seconds' % (i, time.time() - t)\n",
    "                t = time.time()\n",
    "\n",
    "        return solve_vecs"
   ]
  },
  {
   "cell_type": "code",
   "execution_count": 15,
   "metadata": {
    "collapsed": false
   },
   "outputs": [
    {
     "name": "stdout",
     "output_type": "stream",
     "text": [
      "5929784.0\n",
      "5.26812658186\n",
      "alpha 5.27\n"
     ]
    }
   ],
   "source": [
    "import scipy.sparse as sparse\n",
    "\n",
    "def load_matrix2(raw_data_transformed):\n",
    "    where_nan = np.isnan(raw_data_transformed)\n",
    "    raw_data_no_nans = np.copy(raw_data_transformed)\n",
    "    raw_data_no_nans[where_nan]= 0\n",
    "    total_number_of_elemnt = (np.shape(raw_data_no_nans)[0] * np.shape(raw_data_no_nans)[1]) *1.0\n",
    "    print total_number_of_elemnt\n",
    "    alpha = (total_number_of_elemnt - np.count_nonzero(raw_data_no_nans)) / np.sum(raw_data_no_nans) \n",
    "    print alpha\n",
    "    counts = np.copy(raw_data_no_nans)\n",
    "    print 'alpha %.2f' % alpha\n",
    "    counts *= alpha\n",
    "    counts = sparse.csr_matrix(counts)\n",
    "    return counts\n",
    "\n",
    "counts_MF = load_matrix2(raw_data_transformed)"
   ]
  },
  {
   "cell_type": "code",
   "execution_count": 16,
   "metadata": {
    "collapsed": false
   },
   "outputs": [],
   "source": [
    "# reg param = 0.8\n",
    "# 40 factors and 30 iterations obtained 0.852 at best with threshold = 0.2\n",
    "# 40 factors and 80 iterations obtained \n",
    "# 10 factors and 50 iterations obtained 0.849 at best with threshold = 0.21\n",
    "# 30 factors and 50 iterations obtained 0.85935 at best with threshold = 0.22\n",
    "# 30 factors and 100 iterations obtained 0.85935 at best with threshold = 0.22\n",
    "#reg param 0.5 \n",
    "# 30 factors and 50 iterations obtained 0.85529 at best with threshold = 0.16\n",
    "#reg param 0.9\n",
    "# 50 factors and 60 iterations obtained 0.84\n",
    "\n",
    "# change here for different parameter\n",
    "implicit_factor_instance = ImplicitMF(counts_MF,num_factors=30, num_iterations=100,\n",
    "                 reg_param=0.8)"
   ]
  },
  {
   "cell_type": "code",
   "execution_count": null,
   "metadata": {
    "collapsed": false
   },
   "outputs": [],
   "source": [
    "implicit_factor_instance.train_model()"
   ]
  },
  {
   "cell_type": "code",
   "execution_count": 115,
   "metadata": {
    "collapsed": true
   },
   "outputs": [],
   "source": [
    "# reconstruction of the matrix\n",
    "solved_mat = np.dot(implicit_factor_instance.user_vectors,implicit_factor_instance.item_vectors.T)"
   ]
  },
  {
   "cell_type": "code",
   "execution_count": 17,
   "metadata": {
    "collapsed": false
   },
   "outputs": [],
   "source": [
    "# rating list contains 5615 neg element, I will first try to put negative value to 0 and others to 1 \n",
    "def generate_rating_list(solved_mat,ipos,jpos,threshold):\n",
    "    res_rating_list = []\n",
    "    factored_rating_list=[]\n",
    "    for i in range(len(ipos)):\n",
    "        item_id = jpos[i]\n",
    "        user_id = ipos[i]\n",
    "        factored_rating_list.append(solved_mat[user_id][item_id])\n",
    "        if solved_mat[user_id][item_id]<= threshold :\n",
    "            res_rating_list.append(0)\n",
    "        else:\n",
    "            res_rating_list.append(1)\n",
    "    return factored_rating_list, res_rating_list"
   ]
  },
  {
   "cell_type": "code",
   "execution_count": 18,
   "metadata": {
    "collapsed": false
   },
   "outputs": [],
   "source": [
    "def generate_id_submission(ipos,jpos):\n",
    "    \"\"\"\n",
    "    We can still use the id from the submission file, but using the one we generate we are pretty\n",
    "    sure we are submitting the correct ones or the submission system will reject it \n",
    "    \"\"\"\n",
    "    id_prediction = []\n",
    "    #user\n",
    "    for i in range(len(ipos)):\n",
    "        #item\n",
    "        id_prediction.append((ipos[i] + 1) + jpos[i] * 1372)\n",
    "    return id_prediction"
   ]
  },
  {
   "cell_type": "code",
   "execution_count": 19,
   "metadata": {
    "collapsed": false
   },
   "outputs": [],
   "source": [
    "def generate_submission(filename,rating_list,id_prediction):\n",
    "    with open(filename, 'rb') as f:\n",
    "        reader = csv.reader(f)\n",
    "        raw_submission_data = list(reader)\n",
    "    with open(filename, 'wb') as h:\n",
    "        s = \"Id\"\n",
    "        b= \"Prediction\"\n",
    "        writer = csv.writer(h)\n",
    "        writer.writerow((s,b))\n",
    "        for i in range(len(id_prediction)):\n",
    "            writer.writerow((id_prediction[i],int(rating_list[i])))\n",
    "    print len(raw_submission_data) \n",
    "    print \"file generated succesfully, Good Luck Bro !\""
   ]
  },
  {
   "cell_type": "code",
   "execution_count": null,
   "metadata": {
    "collapsed": true
   },
   "outputs": [],
   "source": [
    "id_prediction = generate_id_submission(ipos_rawdata,jpos_rawdata)"
   ]
  },
  {
   "cell_type": "code",
   "execution_count": 136,
   "metadata": {
    "collapsed": false
   },
   "outputs": [
    {
     "name": "stdout",
     "output_type": "stream",
     "text": [
      "max : 1.62647929442\n",
      "min : -0.727725458125\n",
      "mean : 0.426616597282\n"
     ]
    }
   ],
   "source": [
    "factore_rating_list,scaled_rating_list = generate_rating_list(solved_mat,ipos_rawdata,jpos_rawdata,0.225)\n",
    "print \"max :\", np.max(factore_rating_list)\n",
    "print 'min :', np.min(factore_rating_list)\n",
    "print 'mean :',np.mean(factore_rating_list)"
   ]
  },
  {
   "cell_type": "code",
   "execution_count": 137,
   "metadata": {
    "collapsed": false
   },
   "outputs": [
    {
     "name": "stdout",
     "output_type": "stream",
     "text": [
      "35022\n",
      "file generated succesfully, Good Luck Bro !\n"
     ]
    }
   ],
   "source": [
    "generate_submission('sampleSubmission.csv',scaled_rating_list,id_prediction)"
   ]
  },
  {
   "cell_type": "code",
   "execution_count": null,
   "metadata": {
    "collapsed": true
   },
   "outputs": [],
   "source": []
  }
 ],
 "metadata": {
  "kernelspec": {
   "display_name": "Python 2",
   "language": "python",
   "name": "python2"
  },
  "language_info": {
   "codemirror_mode": {
    "name": "ipython",
    "version": 2
   },
   "file_extension": ".py",
   "mimetype": "text/x-python",
   "name": "python",
   "nbconvert_exporter": "python",
   "pygments_lexer": "ipython2",
   "version": "2.7.10"
  }
 },
 "nbformat": 4,
 "nbformat_minor": 0
}
